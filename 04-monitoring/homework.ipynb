{
 "cells": [
  {
   "cell_type": "markdown",
   "id": "f844b45a-0048-4ef8-87d2-7b67644511cf",
   "metadata": {},
   "source": [
    "### Getting the data"
   ]
  },
  {
   "cell_type": "code",
   "execution_count": 1,
   "id": "c773e105-bd77-4132-9bf0-baf34d50b210",
   "metadata": {},
   "outputs": [],
   "source": [
    "import pandas as pd\n",
    "\n",
    "base_url = 'https://github.com/DataTalksClub/llm-zoomcamp/blob/main'\n",
    "relative_url = '04-monitoring/data/results-gpt4o-mini.csv'\n",
    "github_url = f'{base_url}/{relative_url}'\n",
    "url = f'{github_url}?raw=1'\n",
    "df = pd.read_csv(url)"
   ]
  },
  {
   "cell_type": "code",
   "execution_count": 2,
   "id": "0a68bdab-1387-401e-be49-3ba954e185f9",
   "metadata": {},
   "outputs": [],
   "source": [
    "df = df.iloc[:300]"
   ]
  },
  {
   "cell_type": "markdown",
   "id": "6fcecdee-d605-452b-9a1a-7d5c78839912",
   "metadata": {},
   "source": [
    "### Q1. Getting the embeddings model"
   ]
  },
  {
   "cell_type": "code",
   "execution_count": 3,
   "id": "36c2c467-f069-4a05-b264-49f036f5aed3",
   "metadata": {},
   "outputs": [
    {
     "name": "stderr",
     "output_type": "stream",
     "text": [
      "/Users/cristian.martinez/miniconda3/envs/llm-zoomcamp-env/lib/python3.9/site-packages/tqdm/auto.py:21: TqdmWarning: IProgress not found. Please update jupyter and ipywidgets. See https://ipywidgets.readthedocs.io/en/stable/user_install.html\n",
      "  from .autonotebook import tqdm as notebook_tqdm\n",
      "You try to use a model that was created with version 3.0.0.dev0, however, your version is 2.7.0. This might cause unexpected behavior or errors. In that case, try to update to the latest version.\n",
      "\n",
      "\n",
      "\n"
     ]
    }
   ],
   "source": [
    "from sentence_transformers import SentenceTransformer\n",
    "\n",
    "\n",
    "model_name = \"multi-qa-mpnet-base-dot-v1\"\n",
    "embedding_model = SentenceTransformer(model_name)"
   ]
  },
  {
   "cell_type": "code",
   "execution_count": 4,
   "id": "3bb826db-86a9-4d27-903c-8ee622f6532f",
   "metadata": {},
   "outputs": [],
   "source": [
    "answer_llm = df.iloc[0].answer_llm"
   ]
  },
  {
   "cell_type": "code",
   "execution_count": 5,
   "id": "f017d203-5a62-4ad9-9b3f-d8691ba0ca07",
   "metadata": {},
   "outputs": [
    {
     "data": {
      "text/plain": [
       "'You can sign up for the course by visiting the course page at [http://mlzoomcamp.com/](http://mlzoomcamp.com/).'"
      ]
     },
     "execution_count": 5,
     "metadata": {},
     "output_type": "execute_result"
    }
   ],
   "source": [
    "answer_llm"
   ]
  },
  {
   "cell_type": "code",
   "execution_count": 6,
   "id": "c775e8db-050d-4bac-abff-166cc5791534",
   "metadata": {},
   "outputs": [],
   "source": [
    "v_llm = embedding_model.encode(answer_llm)"
   ]
  },
  {
   "cell_type": "code",
   "execution_count": 7,
   "id": "2dc54ae8-db3d-4666-9897-d66f75206982",
   "metadata": {},
   "outputs": [
    {
     "name": "stdout",
     "output_type": "stream",
     "text": [
      "The first value of the resulting vector is: -0.42\n"
     ]
    }
   ],
   "source": [
    "print(f\"The first value of the resulting vector is: {v_llm[0]:.2f}\")"
   ]
  },
  {
   "cell_type": "markdown",
   "id": "eaba9d5f-5aac-42b7-b36b-2c9ba7a052fe",
   "metadata": {},
   "source": [
    "### Q2. Computing the dot product"
   ]
  },
  {
   "cell_type": "code",
   "execution_count": 8,
   "id": "0f0c067e-7774-4671-8d0e-81b7ff22a17a",
   "metadata": {},
   "outputs": [],
   "source": [
    "def dot_product(model, record):\n",
    "    answer_orig = record['answer_orig']\n",
    "    answer_llm = record['answer_llm']\n",
    "    \n",
    "    v_llm = model.encode(answer_llm)\n",
    "    v_orig = model.encode(answer_orig)\n",
    "    \n",
    "    return v_llm.dot(v_orig)"
   ]
  },
  {
   "cell_type": "code",
   "execution_count": 9,
   "id": "7b20ff73-6d5d-4f47-93ca-97d0c7d9965b",
   "metadata": {},
   "outputs": [
    {
     "name": "stderr",
     "output_type": "stream",
     "text": [
      "100%|████████████████████████| 300/300 [00:52<00:00,  5.67it/s]\n"
     ]
    }
   ],
   "source": [
    "from tqdm.auto import tqdm\n",
    "\n",
    "results = df.to_dict(orient='records')\n",
    "evaluations = []\n",
    "\n",
    "for record in tqdm(results):\n",
    "    sim = dot_product(embedding_model, record)\n",
    "    evaluations.append(sim)"
   ]
  },
  {
   "cell_type": "code",
   "execution_count": 10,
   "id": "1e9d7329-bfda-44c2-bf59-6108f6c3bd0d",
   "metadata": {},
   "outputs": [
    {
     "name": "stdout",
     "output_type": "stream",
     "text": [
      "The 75% percentile of the score is: 31.67\n"
     ]
    }
   ],
   "source": [
    "import numpy as np\n",
    "\n",
    "print(f\"The 75% percentile of the score is: {np.percentile(a=evaluations, q=75):.2f}\")"
   ]
  },
  {
   "cell_type": "markdown",
   "id": "7cc310c4-fa03-4b7b-b987-867c8ca9df9c",
   "metadata": {},
   "source": [
    "### Q3. Computing the cosine"
   ]
  },
  {
   "cell_type": "code",
   "execution_count": 11,
   "id": "387425b3-2062-4d11-a20a-b5d5a61eaf42",
   "metadata": {},
   "outputs": [],
   "source": [
    "def normalize(v):\n",
    "    norm = np.sqrt((v * v).sum())\n",
    "    v_norm = v / norm\n",
    "    return v_norm\n",
    "\n",
    "def cosine_similarity(model, record):\n",
    "    answer_orig = record['answer_orig']\n",
    "    answer_llm = record['answer_llm']\n",
    "    \n",
    "    v_llm = model.encode(answer_llm)\n",
    "    v_orig = model.encode(answer_orig)\n",
    "    \n",
    "    return normalize(v_llm).dot(normalize(v_orig))"
   ]
  },
  {
   "cell_type": "code",
   "execution_count": 12,
   "id": "53de4847-cc5c-4b1a-b68e-29830caf9744",
   "metadata": {},
   "outputs": [
    {
     "name": "stderr",
     "output_type": "stream",
     "text": [
      "100%|████████████████████████| 300/300 [00:18<00:00, 15.87it/s]\n"
     ]
    }
   ],
   "source": [
    "evaluations = []\n",
    "\n",
    "for record in tqdm(results):\n",
    "    sim = cosine_similarity(embedding_model, record)\n",
    "    evaluations.append(sim)"
   ]
  },
  {
   "cell_type": "code",
   "execution_count": 13,
   "id": "606951d6-52a1-45ca-8cee-44eaa6cb3947",
   "metadata": {},
   "outputs": [
    {
     "name": "stdout",
     "output_type": "stream",
     "text": [
      "The 75% cosine in the scores is: 0.836\n"
     ]
    }
   ],
   "source": [
    "print(f\"The 75% cosine in the scores is: {np.percentile(a=evaluations, q=75):.3f}\")"
   ]
  },
  {
   "cell_type": "markdown",
   "id": "337de4fb-833a-46d5-b667-6f47daddac20",
   "metadata": {},
   "source": [
    "### Q4. Rouge"
   ]
  },
  {
   "cell_type": "code",
   "execution_count": 14,
   "id": "7ace5b4f-3340-4ad9-a0b9-da6849f561c3",
   "metadata": {},
   "outputs": [],
   "source": [
    "# !pip install rouge"
   ]
  },
  {
   "cell_type": "code",
   "execution_count": 15,
   "id": "29b63f00-b7c1-4139-ab27-88ebe2fbacd0",
   "metadata": {},
   "outputs": [],
   "source": [
    "from rouge import Rouge\n",
    "\n",
    "r = results[10]\n",
    "rouge_scorer = Rouge()\n",
    "scores = rouge_scorer.get_scores(r['answer_llm'], r['answer_orig'])[0]"
   ]
  },
  {
   "cell_type": "code",
   "execution_count": 16,
   "id": "252d67a1-d639-4b42-b08b-ca62af3d9ed4",
   "metadata": {},
   "outputs": [
    {
     "name": "stdout",
     "output_type": "stream",
     "text": [
      "The F score for rouge-1 is: 0.45\n"
     ]
    }
   ],
   "source": [
    "print(f\"The F score for rouge-1 is: {scores['rouge-1']['f']:.2f}\")"
   ]
  },
  {
   "cell_type": "markdown",
   "id": "2a9afde5-5b81-49db-a91d-58efdb862f78",
   "metadata": {},
   "source": [
    "### Q5. Average rouge score"
   ]
  },
  {
   "cell_type": "code",
   "execution_count": 17,
   "id": "2ab25a01-d151-49be-8ad6-ac3667fa953b",
   "metadata": {},
   "outputs": [
    {
     "name": "stdout",
     "output_type": "stream",
     "text": [
      "The average F-score between rouge-1, rouge-2 and rouge-l is: 0.35\n"
     ]
    }
   ],
   "source": [
    "print(f\"The average F-score between rouge-1, rouge-2 and rouge-l is: {np.average([values['f'] for key, values in scores.items()]):.2f}\")"
   ]
  },
  {
   "cell_type": "markdown",
   "id": "3f332ae5-3e17-409c-84af-678f2303a55a",
   "metadata": {},
   "source": [
    "### Q6. Average rouge score for all the data points"
   ]
  },
  {
   "cell_type": "code",
   "execution_count": 18,
   "id": "389c748d-9126-44a0-a6d3-718217432b63",
   "metadata": {},
   "outputs": [
    {
     "name": "stderr",
     "output_type": "stream",
     "text": [
      "100%|███████████████████████| 300/300 [00:00<00:00, 512.43it/s]\n"
     ]
    }
   ],
   "source": [
    "evaluations = []\n",
    "\n",
    "for record in tqdm(results):\n",
    "    scores = rouge_scorer.get_scores(record['answer_llm'], record['answer_orig'])[0]\n",
    "    evaluations.append(scores['rouge-2']['f'])"
   ]
  },
  {
   "cell_type": "code",
   "execution_count": 19,
   "id": "3eeeec46-4e51-41bc-83c1-03269eeb5d56",
   "metadata": {},
   "outputs": [],
   "source": [
    "df['rouge-2-fscore'] = evaluations"
   ]
  },
  {
   "cell_type": "code",
   "execution_count": 20,
   "id": "737703c8-6796-462d-ab84-e261ab9cca67",
   "metadata": {},
   "outputs": [
    {
     "name": "stdout",
     "output_type": "stream",
     "text": [
      "The average rouge_2 across all the records is: 0.207\n"
     ]
    }
   ],
   "source": [
    "print(f\"The average rouge_2 across all the records is: {df['rouge-2-fscore'].describe()['mean']:.3f}\")"
   ]
  },
  {
   "cell_type": "code",
   "execution_count": null,
   "id": "70613ead-e7fa-4cd7-8da5-666e52d0e3c9",
   "metadata": {},
   "outputs": [],
   "source": []
  }
 ],
 "metadata": {
  "kernelspec": {
   "display_name": "Python 3 (ipykernel)",
   "language": "python",
   "name": "python3"
  },
  "language_info": {
   "codemirror_mode": {
    "name": "ipython",
    "version": 3
   },
   "file_extension": ".py",
   "mimetype": "text/x-python",
   "name": "python",
   "nbconvert_exporter": "python",
   "pygments_lexer": "ipython3",
   "version": "3.9.19"
  }
 },
 "nbformat": 4,
 "nbformat_minor": 5
}
