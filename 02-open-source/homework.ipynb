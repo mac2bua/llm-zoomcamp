{
 "cells": [
  {
   "cell_type": "code",
   "execution_count": 1,
   "id": "367fc4a8",
   "metadata": {},
   "outputs": [],
   "source": [
    "# !pip install tqdm notebook==7.1.2 openai elasticsearch pandas scikit-learn ipywidgets"
   ]
  },
  {
   "cell_type": "code",
   "execution_count": null,
   "id": "7142a54d",
   "metadata": {},
   "outputs": [],
   "source": []
  },
  {
   "cell_type": "markdown",
   "id": "f41f7787",
   "metadata": {},
   "source": [
    "### Q1. Running Ollama with Docker"
   ]
  },
  {
   "cell_type": "code",
   "execution_count": 2,
   "id": "6a1be531",
   "metadata": {},
   "outputs": [
    {
     "name": "stdout",
     "output_type": "stream",
     "text": [
      "ollama version is 0.2.1\r\n"
     ]
    }
   ],
   "source": [
    "!ollama -v"
   ]
  },
  {
   "cell_type": "code",
   "execution_count": null,
   "id": "a382ecc5",
   "metadata": {},
   "outputs": [],
   "source": []
  },
  {
   "cell_type": "markdown",
   "id": "766b4d19",
   "metadata": {},
   "source": [
    "### Q2. Downloading an LLM"
   ]
  },
  {
   "cell_type": "code",
   "execution_count": 3,
   "id": "9f36d7c2",
   "metadata": {},
   "outputs": [
    {
     "name": "stdout",
     "output_type": "stream",
     "text": [
      "{\"schemaVersion\":2,\"mediaType\":\"application/vnd.docker.distribution.manifest.v2+json\",\"config\":{\"mediaType\":\"application/vnd.docker.container.image.v1+json\",\"digest\":\"sha256:887433b89a901c156f7e6944442f3c9e57f3c55d6ed52042cbb7303aea994290\",\"size\":483},\"layers\":[{\"mediaType\":\"application/vnd.ollama.image.model\",\"digest\":\"sha256:c1864a5eb19305c40519da12cc543519e48a0697ecd30e15d5ac228644957d12\",\"size\":1678447520},{\"mediaType\":\"application/vnd.ollama.image.license\",\"digest\":\"sha256:097a36493f718248845233af1d3fefe7a303f864fae13bc31a3a9704229378ca\",\"size\":8433},{\"mediaType\":\"application/vnd.ollama.image.template\",\"digest\":\"sha256:109037bec39c0becc8221222ae23557559bc594290945a2c4221ab4f303b8871\",\"size\":136},{\"mediaType\":\"application/vnd.ollama.image.params\",\"digest\":\"sha256:22a838ceb7fb22755a3b0ae9b4eadde629d19be1f651f73efb8c6b4e2cd0eea0\",\"size\":84}]}"
     ]
    }
   ],
   "source": [
    "!cat ./ollama_files/models/manifests/registry.ollama.ai/library/gemma/2b"
   ]
  },
  {
   "cell_type": "code",
   "execution_count": null,
   "id": "81cc57e3",
   "metadata": {},
   "outputs": [],
   "source": []
  },
  {
   "cell_type": "markdown",
   "id": "430d9893",
   "metadata": {},
   "source": [
    "### Q3. Running the LLM"
   ]
  },
  {
   "cell_type": "code",
   "execution_count": 4,
   "id": "ded02eaa",
   "metadata": {},
   "outputs": [],
   "source": [
    "from openai import OpenAI\n",
    "\n",
    "client = OpenAI(\n",
    "    base_url='http://localhost:11434/v1/',\n",
    "    api_key='ollama',\n",
    ")"
   ]
  },
  {
   "cell_type": "code",
   "execution_count": 44,
   "id": "ed6db3fd",
   "metadata": {},
   "outputs": [],
   "source": [
    "def llm(prompt):\n",
    "    response = client.chat.completions.create(\n",
    "        model='gemma:2b',\n",
    "        messages=[{\"role\": \"user\", \"content\": prompt}],\n",
    "        temperature=0\n",
    "    )\n",
    "    \n",
    "    return response"
   ]
  },
  {
   "cell_type": "code",
   "execution_count": 45,
   "id": "53bc449e",
   "metadata": {},
   "outputs": [],
   "source": [
    "response = llm(\"10 * 10\")"
   ]
  },
  {
   "cell_type": "code",
   "execution_count": 46,
   "id": "6724d204",
   "metadata": {},
   "outputs": [
    {
     "data": {
      "text/plain": [
       "'Sure, here is the answer to the question:\\n\\n10 * 10 = 100.'"
      ]
     },
     "execution_count": 46,
     "metadata": {},
     "output_type": "execute_result"
    }
   ],
   "source": [
    "response.choices[0].message.content"
   ]
  },
  {
   "cell_type": "code",
   "execution_count": null,
   "id": "be13f374",
   "metadata": {},
   "outputs": [],
   "source": []
  },
  {
   "cell_type": "markdown",
   "id": "a0d04843",
   "metadata": {},
   "source": [
    "### Q4. Donwloading the weights"
   ]
  },
  {
   "cell_type": "code",
   "execution_count": 7,
   "id": "72a0cf0a",
   "metadata": {},
   "outputs": [
    {
     "name": "stdout",
     "output_type": "stream",
     "text": [
      "1.6G\tollama_files/models//blobs\r\n",
      "4.0K\tollama_files/models//manifests/registry.ollama.ai/library/gemma\r\n",
      "4.0K\tollama_files/models//manifests/registry.ollama.ai/library\r\n",
      "4.0K\tollama_files/models//manifests/registry.ollama.ai\r\n",
      "4.0K\tollama_files/models//manifests\r\n",
      "1.6G\tollama_files/models/\r\n"
     ]
    }
   ],
   "source": [
    "!du -h ollama_files/models/"
   ]
  },
  {
   "cell_type": "code",
   "execution_count": null,
   "id": "497b7e51",
   "metadata": {},
   "outputs": [],
   "source": []
  },
  {
   "cell_type": "markdown",
   "id": "48648942",
   "metadata": {},
   "source": [
    "### Q5. Adding the weights"
   ]
  },
  {
   "cell_type": "code",
   "execution_count": 8,
   "id": "90212563",
   "metadata": {},
   "outputs": [
    {
     "name": "stdout",
     "output_type": "stream",
     "text": [
      "FROM ollama/ollama\r\n",
      "\r\n",
      "COPY ./ollama_files /root/.ollama\r\n"
     ]
    }
   ],
   "source": [
    "!cat Dockerfile"
   ]
  },
  {
   "cell_type": "code",
   "execution_count": null,
   "id": "e92c14f7",
   "metadata": {},
   "outputs": [],
   "source": []
  },
  {
   "cell_type": "markdown",
   "id": "b064142d",
   "metadata": {},
   "source": [
    "### Q6. Serving it"
   ]
  },
  {
   "cell_type": "code",
   "execution_count": 48,
   "id": "48b32146",
   "metadata": {},
   "outputs": [],
   "source": [
    "prompt = \"What's the formula for energy?\""
   ]
  },
  {
   "cell_type": "code",
   "execution_count": 49,
   "id": "b250b428",
   "metadata": {},
   "outputs": [],
   "source": [
    "response = llm(prompt)"
   ]
  },
  {
   "cell_type": "code",
   "execution_count": 52,
   "id": "22049bf7",
   "metadata": {},
   "outputs": [
    {
     "data": {
      "text/plain": [
       "283"
      ]
     },
     "execution_count": 52,
     "metadata": {},
     "output_type": "execute_result"
    }
   ],
   "source": [
    "dict(dict(response)['usage'])['completion_tokens']"
   ]
  },
  {
   "cell_type": "code",
   "execution_count": null,
   "id": "5fc81008",
   "metadata": {},
   "outputs": [],
   "source": []
  }
 ],
 "metadata": {
  "kernelspec": {
   "display_name": "Python 3 (ipykernel)",
   "language": "python",
   "name": "python3"
  },
  "language_info": {
   "codemirror_mode": {
    "name": "ipython",
    "version": 3
   },
   "file_extension": ".py",
   "mimetype": "text/x-python",
   "name": "python",
   "nbconvert_exporter": "python",
   "pygments_lexer": "ipython3",
   "version": "3.9.16"
  }
 },
 "nbformat": 4,
 "nbformat_minor": 5
}
